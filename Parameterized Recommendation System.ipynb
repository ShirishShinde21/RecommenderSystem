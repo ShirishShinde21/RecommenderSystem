{
 "cells": [
  {
   "cell_type": "code",
   "execution_count": 1,
   "id": "137274ca",
   "metadata": {},
   "outputs": [],
   "source": [
    "import pandas as pd\n",
    "import scipy.sparse as sparse\n",
    "import numpy as np\n",
    "import random\n",
    "import implicit\n",
    "import joblib\n",
    "from sklearn.preprocessing import MinMaxScaler"
   ]
  },
  {
   "cell_type": "code",
   "execution_count": 32,
   "id": "366047ea",
   "metadata": {},
   "outputs": [],
   "source": [
    "products_df = pd.read_csv(\"../IP2022_Spring_8451/data/products.csv\",index_col=0)\n",
    "#Importing the final merged cvs file into transactions dataframe\n",
    "transactions = pd.read_csv(\"FinalMergedData.csv\")"
   ]
  },
  {
   "cell_type": "code",
   "execution_count": 33,
   "id": "93f028e1",
   "metadata": {},
   "outputs": [
    {
     "data": {
      "text/html": [
       "<div>\n",
       "<style scoped>\n",
       "    .dataframe tbody tr th:only-of-type {\n",
       "        vertical-align: middle;\n",
       "    }\n",
       "\n",
       "    .dataframe tbody tr th {\n",
       "        vertical-align: top;\n",
       "    }\n",
       "\n",
       "    .dataframe thead th {\n",
       "        text-align: right;\n",
       "    }\n",
       "</style>\n",
       "<table border=\"1\" class=\"dataframe\">\n",
       "  <thead>\n",
       "    <tr style=\"text-align: right;\">\n",
       "      <th></th>\n",
       "      <th>campaign_id</th>\n",
       "      <th>household_id</th>\n",
       "      <th>campaign_type</th>\n",
       "      <th>start_date</th>\n",
       "      <th>end_date</th>\n",
       "      <th>store_id</th>\n",
       "      <th>basket_id</th>\n",
       "      <th>product_id</th>\n",
       "      <th>quantity</th>\n",
       "      <th>sales_value</th>\n",
       "      <th>...</th>\n",
       "      <th>age</th>\n",
       "      <th>income</th>\n",
       "      <th>home_ownership</th>\n",
       "      <th>marital_status</th>\n",
       "      <th>household_size</th>\n",
       "      <th>household_comp</th>\n",
       "      <th>kids_count</th>\n",
       "      <th>transaction_date</th>\n",
       "      <th>transaction_time</th>\n",
       "      <th>coupon_upc</th>\n",
       "    </tr>\n",
       "  </thead>\n",
       "  <tbody>\n",
       "    <tr>\n",
       "      <th>0</th>\n",
       "      <td>1</td>\n",
       "      <td>105</td>\n",
       "      <td>Type B</td>\n",
       "      <td>2017-03-03</td>\n",
       "      <td>2017-04-09</td>\n",
       "      <td>321</td>\n",
       "      <td>3.220465e+10</td>\n",
       "      <td>1095068.0</td>\n",
       "      <td>1</td>\n",
       "      <td>1.67</td>\n",
       "      <td>...</td>\n",
       "      <td>25-34</td>\n",
       "      <td>Under 15K</td>\n",
       "      <td>Homeowner</td>\n",
       "      <td>Unmarried</td>\n",
       "      <td>3</td>\n",
       "      <td>1 Adult Kids</td>\n",
       "      <td>2</td>\n",
       "      <td>2017-03-13</td>\n",
       "      <td>09:29:51</td>\n",
       "      <td>NaN</td>\n",
       "    </tr>\n",
       "    <tr>\n",
       "      <th>1</th>\n",
       "      <td>1</td>\n",
       "      <td>105</td>\n",
       "      <td>Type B</td>\n",
       "      <td>2017-03-03</td>\n",
       "      <td>2017-04-09</td>\n",
       "      <td>321</td>\n",
       "      <td>3.220465e+10</td>\n",
       "      <td>852065.0</td>\n",
       "      <td>1</td>\n",
       "      <td>1.69</td>\n",
       "      <td>...</td>\n",
       "      <td>25-34</td>\n",
       "      <td>Under 15K</td>\n",
       "      <td>Homeowner</td>\n",
       "      <td>Unmarried</td>\n",
       "      <td>3</td>\n",
       "      <td>1 Adult Kids</td>\n",
       "      <td>2</td>\n",
       "      <td>2017-03-13</td>\n",
       "      <td>09:29:51</td>\n",
       "      <td>NaN</td>\n",
       "    </tr>\n",
       "    <tr>\n",
       "      <th>2</th>\n",
       "      <td>1</td>\n",
       "      <td>105</td>\n",
       "      <td>Type B</td>\n",
       "      <td>2017-03-03</td>\n",
       "      <td>2017-04-09</td>\n",
       "      <td>321</td>\n",
       "      <td>3.220465e+10</td>\n",
       "      <td>1135868.0</td>\n",
       "      <td>1</td>\n",
       "      <td>1.29</td>\n",
       "      <td>...</td>\n",
       "      <td>25-34</td>\n",
       "      <td>Under 15K</td>\n",
       "      <td>Homeowner</td>\n",
       "      <td>Unmarried</td>\n",
       "      <td>3</td>\n",
       "      <td>1 Adult Kids</td>\n",
       "      <td>2</td>\n",
       "      <td>2017-03-13</td>\n",
       "      <td>09:29:51</td>\n",
       "      <td>NaN</td>\n",
       "    </tr>\n",
       "    <tr>\n",
       "      <th>3</th>\n",
       "      <td>1</td>\n",
       "      <td>105</td>\n",
       "      <td>Type B</td>\n",
       "      <td>2017-03-03</td>\n",
       "      <td>2017-04-09</td>\n",
       "      <td>321</td>\n",
       "      <td>3.247878e+10</td>\n",
       "      <td>870927.0</td>\n",
       "      <td>1</td>\n",
       "      <td>0.88</td>\n",
       "      <td>...</td>\n",
       "      <td>25-34</td>\n",
       "      <td>Under 15K</td>\n",
       "      <td>Homeowner</td>\n",
       "      <td>Unmarried</td>\n",
       "      <td>3</td>\n",
       "      <td>1 Adult Kids</td>\n",
       "      <td>2</td>\n",
       "      <td>2017-03-27</td>\n",
       "      <td>09:11:15</td>\n",
       "      <td>NaN</td>\n",
       "    </tr>\n",
       "    <tr>\n",
       "      <th>4</th>\n",
       "      <td>1</td>\n",
       "      <td>105</td>\n",
       "      <td>Type B</td>\n",
       "      <td>2017-03-03</td>\n",
       "      <td>2017-04-09</td>\n",
       "      <td>321</td>\n",
       "      <td>3.247878e+10</td>\n",
       "      <td>1057113.0</td>\n",
       "      <td>2</td>\n",
       "      <td>4.12</td>\n",
       "      <td>...</td>\n",
       "      <td>25-34</td>\n",
       "      <td>Under 15K</td>\n",
       "      <td>Homeowner</td>\n",
       "      <td>Unmarried</td>\n",
       "      <td>3</td>\n",
       "      <td>1 Adult Kids</td>\n",
       "      <td>2</td>\n",
       "      <td>2017-03-27</td>\n",
       "      <td>09:11:15</td>\n",
       "      <td>NaN</td>\n",
       "    </tr>\n",
       "    <tr>\n",
       "      <th>...</th>\n",
       "      <td>...</td>\n",
       "      <td>...</td>\n",
       "      <td>...</td>\n",
       "      <td>...</td>\n",
       "      <td>...</td>\n",
       "      <td>...</td>\n",
       "      <td>...</td>\n",
       "      <td>...</td>\n",
       "      <td>...</td>\n",
       "      <td>...</td>\n",
       "      <td>...</td>\n",
       "      <td>...</td>\n",
       "      <td>...</td>\n",
       "      <td>...</td>\n",
       "      <td>...</td>\n",
       "      <td>...</td>\n",
       "      <td>...</td>\n",
       "      <td>...</td>\n",
       "      <td>...</td>\n",
       "      <td>...</td>\n",
       "      <td>...</td>\n",
       "    </tr>\n",
       "    <tr>\n",
       "      <th>869959</th>\n",
       "      <td>9</td>\n",
       "      <td>997</td>\n",
       "      <td>Type B</td>\n",
       "      <td>2017-05-31</td>\n",
       "      <td>2017-07-02</td>\n",
       "      <td>3182</td>\n",
       "      <td>3.368217e+10</td>\n",
       "      <td>196521.0</td>\n",
       "      <td>2</td>\n",
       "      <td>3.20</td>\n",
       "      <td>...</td>\n",
       "      <td>45-54</td>\n",
       "      <td>75-99K</td>\n",
       "      <td>Homeowner</td>\n",
       "      <td>Unmarried</td>\n",
       "      <td>1</td>\n",
       "      <td>1 Adult No Kids</td>\n",
       "      <td>0</td>\n",
       "      <td>2017-06-12</td>\n",
       "      <td>20:41:43</td>\n",
       "      <td>NaN</td>\n",
       "    </tr>\n",
       "    <tr>\n",
       "      <th>869960</th>\n",
       "      <td>9</td>\n",
       "      <td>997</td>\n",
       "      <td>Type B</td>\n",
       "      <td>2017-05-31</td>\n",
       "      <td>2017-07-02</td>\n",
       "      <td>3182</td>\n",
       "      <td>3.368217e+10</td>\n",
       "      <td>372396.0</td>\n",
       "      <td>1</td>\n",
       "      <td>3.79</td>\n",
       "      <td>...</td>\n",
       "      <td>45-54</td>\n",
       "      <td>75-99K</td>\n",
       "      <td>Homeowner</td>\n",
       "      <td>Unmarried</td>\n",
       "      <td>1</td>\n",
       "      <td>1 Adult No Kids</td>\n",
       "      <td>0</td>\n",
       "      <td>2017-06-12</td>\n",
       "      <td>20:41:43</td>\n",
       "      <td>NaN</td>\n",
       "    </tr>\n",
       "    <tr>\n",
       "      <th>869961</th>\n",
       "      <td>9</td>\n",
       "      <td>997</td>\n",
       "      <td>Type B</td>\n",
       "      <td>2017-05-31</td>\n",
       "      <td>2017-07-02</td>\n",
       "      <td>3182</td>\n",
       "      <td>3.368217e+10</td>\n",
       "      <td>10212300.0</td>\n",
       "      <td>1</td>\n",
       "      <td>0.99</td>\n",
       "      <td>...</td>\n",
       "      <td>45-54</td>\n",
       "      <td>75-99K</td>\n",
       "      <td>Homeowner</td>\n",
       "      <td>Unmarried</td>\n",
       "      <td>1</td>\n",
       "      <td>1 Adult No Kids</td>\n",
       "      <td>0</td>\n",
       "      <td>2017-06-12</td>\n",
       "      <td>20:41:43</td>\n",
       "      <td>NaN</td>\n",
       "    </tr>\n",
       "    <tr>\n",
       "      <th>869962</th>\n",
       "      <td>9</td>\n",
       "      <td>997</td>\n",
       "      <td>Type B</td>\n",
       "      <td>2017-05-31</td>\n",
       "      <td>2017-07-02</td>\n",
       "      <td>3182</td>\n",
       "      <td>3.368217e+10</td>\n",
       "      <td>10462537.0</td>\n",
       "      <td>1</td>\n",
       "      <td>1.89</td>\n",
       "      <td>...</td>\n",
       "      <td>45-54</td>\n",
       "      <td>75-99K</td>\n",
       "      <td>Homeowner</td>\n",
       "      <td>Unmarried</td>\n",
       "      <td>1</td>\n",
       "      <td>1 Adult No Kids</td>\n",
       "      <td>0</td>\n",
       "      <td>2017-06-12</td>\n",
       "      <td>20:41:43</td>\n",
       "      <td>NaN</td>\n",
       "    </tr>\n",
       "    <tr>\n",
       "      <th>869963</th>\n",
       "      <td>9</td>\n",
       "      <td>997</td>\n",
       "      <td>Type B</td>\n",
       "      <td>2017-05-31</td>\n",
       "      <td>2017-07-02</td>\n",
       "      <td>3182</td>\n",
       "      <td>3.368217e+10</td>\n",
       "      <td>13163960.0</td>\n",
       "      <td>1</td>\n",
       "      <td>4.29</td>\n",
       "      <td>...</td>\n",
       "      <td>45-54</td>\n",
       "      <td>75-99K</td>\n",
       "      <td>Homeowner</td>\n",
       "      <td>Unmarried</td>\n",
       "      <td>1</td>\n",
       "      <td>1 Adult No Kids</td>\n",
       "      <td>0</td>\n",
       "      <td>2017-06-12</td>\n",
       "      <td>20:41:43</td>\n",
       "      <td>NaN</td>\n",
       "    </tr>\n",
       "  </tbody>\n",
       "</table>\n",
       "<p>869964 rows × 34 columns</p>\n",
       "</div>"
      ],
      "text/plain": [
       "        campaign_id  household_id campaign_type  start_date    end_date  \\\n",
       "0                 1           105        Type B  2017-03-03  2017-04-09   \n",
       "1                 1           105        Type B  2017-03-03  2017-04-09   \n",
       "2                 1           105        Type B  2017-03-03  2017-04-09   \n",
       "3                 1           105        Type B  2017-03-03  2017-04-09   \n",
       "4                 1           105        Type B  2017-03-03  2017-04-09   \n",
       "...             ...           ...           ...         ...         ...   \n",
       "869959            9           997        Type B  2017-05-31  2017-07-02   \n",
       "869960            9           997        Type B  2017-05-31  2017-07-02   \n",
       "869961            9           997        Type B  2017-05-31  2017-07-02   \n",
       "869962            9           997        Type B  2017-05-31  2017-07-02   \n",
       "869963            9           997        Type B  2017-05-31  2017-07-02   \n",
       "\n",
       "        store_id     basket_id  product_id  quantity  sales_value  ...    age  \\\n",
       "0            321  3.220465e+10   1095068.0         1         1.67  ...  25-34   \n",
       "1            321  3.220465e+10    852065.0         1         1.69  ...  25-34   \n",
       "2            321  3.220465e+10   1135868.0         1         1.29  ...  25-34   \n",
       "3            321  3.247878e+10    870927.0         1         0.88  ...  25-34   \n",
       "4            321  3.247878e+10   1057113.0         2         4.12  ...  25-34   \n",
       "...          ...           ...         ...       ...          ...  ...    ...   \n",
       "869959      3182  3.368217e+10    196521.0         2         3.20  ...  45-54   \n",
       "869960      3182  3.368217e+10    372396.0         1         3.79  ...  45-54   \n",
       "869961      3182  3.368217e+10  10212300.0         1         0.99  ...  45-54   \n",
       "869962      3182  3.368217e+10  10462537.0         1         1.89  ...  45-54   \n",
       "869963      3182  3.368217e+10  13163960.0         1         4.29  ...  45-54   \n",
       "\n",
       "           income  home_ownership  marital_status household_size  \\\n",
       "0       Under 15K       Homeowner       Unmarried              3   \n",
       "1       Under 15K       Homeowner       Unmarried              3   \n",
       "2       Under 15K       Homeowner       Unmarried              3   \n",
       "3       Under 15K       Homeowner       Unmarried              3   \n",
       "4       Under 15K       Homeowner       Unmarried              3   \n",
       "...           ...             ...             ...            ...   \n",
       "869959     75-99K       Homeowner       Unmarried              1   \n",
       "869960     75-99K       Homeowner       Unmarried              1   \n",
       "869961     75-99K       Homeowner       Unmarried              1   \n",
       "869962     75-99K       Homeowner       Unmarried              1   \n",
       "869963     75-99K       Homeowner       Unmarried              1   \n",
       "\n",
       "         household_comp kids_count transaction_date transaction_time  \\\n",
       "0          1 Adult Kids          2       2017-03-13         09:29:51   \n",
       "1          1 Adult Kids          2       2017-03-13         09:29:51   \n",
       "2          1 Adult Kids          2       2017-03-13         09:29:51   \n",
       "3          1 Adult Kids          2       2017-03-27         09:11:15   \n",
       "4          1 Adult Kids          2       2017-03-27         09:11:15   \n",
       "...                 ...        ...              ...              ...   \n",
       "869959  1 Adult No Kids          0       2017-06-12         20:41:43   \n",
       "869960  1 Adult No Kids          0       2017-06-12         20:41:43   \n",
       "869961  1 Adult No Kids          0       2017-06-12         20:41:43   \n",
       "869962  1 Adult No Kids          0       2017-06-12         20:41:43   \n",
       "869963  1 Adult No Kids          0       2017-06-12         20:41:43   \n",
       "\n",
       "       coupon_upc  \n",
       "0             NaN  \n",
       "1             NaN  \n",
       "2             NaN  \n",
       "3             NaN  \n",
       "4             NaN  \n",
       "...           ...  \n",
       "869959        NaN  \n",
       "869960        NaN  \n",
       "869961        NaN  \n",
       "869962        NaN  \n",
       "869963        NaN  \n",
       "\n",
       "[869964 rows x 34 columns]"
      ]
     },
     "execution_count": 33,
     "metadata": {},
     "output_type": "execute_result"
    }
   ],
   "source": [
    "transactions"
   ]
  },
  {
   "cell_type": "code",
   "execution_count": 3,
   "id": "ae3a5d9d",
   "metadata": {},
   "outputs": [
    {
     "data": {
      "text/html": [
       "<div>\n",
       "<style scoped>\n",
       "    .dataframe tbody tr th:only-of-type {\n",
       "        vertical-align: middle;\n",
       "    }\n",
       "\n",
       "    .dataframe tbody tr th {\n",
       "        vertical-align: top;\n",
       "    }\n",
       "\n",
       "    .dataframe thead th {\n",
       "        text-align: right;\n",
       "    }\n",
       "</style>\n",
       "<table border=\"1\" class=\"dataframe\">\n",
       "  <thead>\n",
       "    <tr style=\"text-align: right;\">\n",
       "      <th></th>\n",
       "      <th>household_id</th>\n",
       "      <th>product_id</th>\n",
       "      <th>total_purchase</th>\n",
       "      <th>weight</th>\n",
       "      <th>household_id_cat</th>\n",
       "      <th>product_id_cat</th>\n",
       "    </tr>\n",
       "  </thead>\n",
       "  <tbody>\n",
       "    <tr>\n",
       "      <th>0</th>\n",
       "      <td>1</td>\n",
       "      <td>819312.0</td>\n",
       "      <td>1</td>\n",
       "      <td>1</td>\n",
       "      <td>0</td>\n",
       "      <td>1599</td>\n",
       "    </tr>\n",
       "    <tr>\n",
       "      <th>1</th>\n",
       "      <td>1</td>\n",
       "      <td>820165.0</td>\n",
       "      <td>4</td>\n",
       "      <td>2</td>\n",
       "      <td>0</td>\n",
       "      <td>1670</td>\n",
       "    </tr>\n",
       "    <tr>\n",
       "      <th>2</th>\n",
       "      <td>1</td>\n",
       "      <td>821815.0</td>\n",
       "      <td>2</td>\n",
       "      <td>2</td>\n",
       "      <td>0</td>\n",
       "      <td>1794</td>\n",
       "    </tr>\n",
       "    <tr>\n",
       "      <th>3</th>\n",
       "      <td>1</td>\n",
       "      <td>821867.0</td>\n",
       "      <td>3</td>\n",
       "      <td>2</td>\n",
       "      <td>0</td>\n",
       "      <td>1803</td>\n",
       "    </tr>\n",
       "    <tr>\n",
       "      <th>4</th>\n",
       "      <td>1</td>\n",
       "      <td>823721.0</td>\n",
       "      <td>1</td>\n",
       "      <td>1</td>\n",
       "      <td>0</td>\n",
       "      <td>1942</td>\n",
       "    </tr>\n",
       "    <tr>\n",
       "      <th>...</th>\n",
       "      <td>...</td>\n",
       "      <td>...</td>\n",
       "      <td>...</td>\n",
       "      <td>...</td>\n",
       "      <td>...</td>\n",
       "      <td>...</td>\n",
       "    </tr>\n",
       "    <tr>\n",
       "      <th>408760</th>\n",
       "      <td>2500</td>\n",
       "      <td>16059046.0</td>\n",
       "      <td>2</td>\n",
       "      <td>2</td>\n",
       "      <td>1531</td>\n",
       "      <td>47542</td>\n",
       "    </tr>\n",
       "    <tr>\n",
       "      <th>408761</th>\n",
       "      <td>2500</td>\n",
       "      <td>16223114.0</td>\n",
       "      <td>1</td>\n",
       "      <td>1</td>\n",
       "      <td>1531</td>\n",
       "      <td>47689</td>\n",
       "    </tr>\n",
       "    <tr>\n",
       "      <th>408762</th>\n",
       "      <td>2500</td>\n",
       "      <td>16223404.0</td>\n",
       "      <td>3</td>\n",
       "      <td>2</td>\n",
       "      <td>1531</td>\n",
       "      <td>47710</td>\n",
       "    </tr>\n",
       "    <tr>\n",
       "      <th>408763</th>\n",
       "      <td>2500</td>\n",
       "      <td>16809391.0</td>\n",
       "      <td>6</td>\n",
       "      <td>3</td>\n",
       "      <td>1531</td>\n",
       "      <td>47914</td>\n",
       "    </tr>\n",
       "    <tr>\n",
       "      <th>408764</th>\n",
       "      <td>2500</td>\n",
       "      <td>17104904.0</td>\n",
       "      <td>2</td>\n",
       "      <td>2</td>\n",
       "      <td>1531</td>\n",
       "      <td>48020</td>\n",
       "    </tr>\n",
       "  </tbody>\n",
       "</table>\n",
       "<p>408765 rows × 6 columns</p>\n",
       "</div>"
      ],
      "text/plain": [
       "        household_id  product_id  total_purchase weight  household_id_cat  \\\n",
       "0                  1    819312.0               1      1                 0   \n",
       "1                  1    820165.0               4      2                 0   \n",
       "2                  1    821815.0               2      2                 0   \n",
       "3                  1    821867.0               3      2                 0   \n",
       "4                  1    823721.0               1      1                 0   \n",
       "...              ...         ...             ...    ...               ...   \n",
       "408760          2500  16059046.0               2      2              1531   \n",
       "408761          2500  16223114.0               1      1              1531   \n",
       "408762          2500  16223404.0               3      2              1531   \n",
       "408763          2500  16809391.0               6      3              1531   \n",
       "408764          2500  17104904.0               2      2              1531   \n",
       "\n",
       "        product_id_cat  \n",
       "0                 1599  \n",
       "1                 1670  \n",
       "2                 1794  \n",
       "3                 1803  \n",
       "4                 1942  \n",
       "...                ...  \n",
       "408760           47542  \n",
       "408761           47689  \n",
       "408762           47710  \n",
       "408763           47914  \n",
       "408764           48020  \n",
       "\n",
       "[408765 rows x 6 columns]"
      ]
     },
     "execution_count": 3,
     "metadata": {},
     "output_type": "execute_result"
    }
   ],
   "source": [
    "#Performs data-preprocessing on the input dataframe\n",
    "#One mandatory parameter: df\n",
    "#options parameters: cap_value, bins, weights, byBasket\n",
    "def generateRequiredDataframe(df,cap_value = 30, bins = [0,1,5,30],weights = [1,2,3], byBasket=True):\n",
    "    if(byBasket):\n",
    "        df = df.loc[:,[\"household_id\",\"basket_id\",\"product_id\",\"quantity\"]]\n",
    "        df_preprocessed = df.groupby([\"household_id\",\"product_id\"]).agg(times_purchased = (\"basket_id\",\"count\")).reset_index()\n",
    "        df_preprocessed.loc[df_preprocessed.times_purchased >= cap_value,\"times_purchased\"] = cap_value\n",
    "        df_preprocessed[\"weight\"]=pd.cut(df_preprocessed.times_purchased,bins=bins,labels=weights)\n",
    "    else:\n",
    "        df = df.loc[:,[\"household_id\",\"product_id\",\"quantity\"]]\n",
    "        df.loc[df.quantity==0,\"quantity\"] = 1\n",
    "        df_preprocessed = df.groupby([\"household_id\",\"product_id\"]).agg(total_purchase = (\"quantity\",\"sum\")).reset_index()\n",
    "        df_preprocessed.loc[df_preprocessed.total_purchase >= cap_value,\"total_purchase\"] = cap_value\n",
    "        df_preprocessed[\"weight\"]=pd.cut(df_preprocessed.total_purchase,bins=bins,labels=weights)\n",
    "    \n",
    "    #Converting household_id and product_id into categorical variable and equivalent dummy codes\n",
    "    df_preprocessed['household_id_cat'] = df_preprocessed['household_id'].astype(\"category\")\n",
    "    df_preprocessed['product_id_cat'] = df_preprocessed['product_id'].astype(\"category\")\n",
    "    df_preprocessed['household_id_cat'] = df_preprocessed['household_id_cat'].cat.codes\n",
    "    df_preprocessed['product_id_cat'] = df_preprocessed['product_id_cat'].cat.codes    \n",
    "    return df_preprocessed\n",
    "\n",
    "#result = generateRequiredDataframe(transactions)\n",
    "result = generateRequiredDataframe(transactions,500,[0,1,5,501],[1,2,3],False)\n",
    "result"
   ]
  },
  {
   "cell_type": "code",
   "execution_count": 26,
   "id": "1f437d1d",
   "metadata": {},
   "outputs": [],
   "source": [
    "#Creating 2 sparse matrix with weight as the input data\n",
    "# The implicit library expects data as a item-user matrix so we create two matricies, one for fitting the model (item-user) and one for recommendations (user-item)\n",
    "def createSparseMatrix(df):\n",
    "    sparse_product_household = sparse.csr_matrix((df['weight'].astype(float), (df['product_id_cat'].astype(int), df['household_id_cat'].astype(int))))\n",
    "    sparse_household_product = sparse.csr_matrix((df['weight'].astype(float), (df['household_id_cat'].astype(int), df['product_id_cat'].astype(int))))\n",
    "    return (sparse_product_household,sparse_household_product)\n",
    "\n",
    "#training an ALS model for recommending new products to the household\n",
    "def trainModel(sparse_product_household,latent_factors =40,regularization_rate = 0.1,n_iterations = 100, alpha_val = 15):\n",
    "    #using implicit package for creating ALS model with n latent factors\n",
    "    model = implicit.als.AlternatingLeastSquares(factors=latent_factors, regularization=regularization_rate, iterations=n_iterations)\n",
    "    #Intensifying the weights    \n",
    "    data_conf = (sparse_product_household * alpha_val).astype('double')\n",
    "    #Training the ALS model using updated sparse matrix\n",
    "    model.fit(data_conf)\n",
    "    joblib.dump(model,\"model\")\n",
    "\n",
    "#Recommending new products\n",
    "#input: preprocessed dataframe, household_id, household_product matrix\n",
    "def getRecommendations(df,household_id,sparse_household_product):\n",
    "    model = joblib.load(\"model\")\n",
    "    userid_cat = df.loc[df.household_id==household_id,\"household_id_cat\"].iloc[0]\n",
    "    recommended = model.recommend(userid_cat, sparse_household_product)\n",
    "    #Iterating over the recommendations\n",
    "    recommended_products = []\n",
    "    recommendation_score =[]\n",
    "    for item in recommended:\n",
    "        idx, score = item \n",
    "        recommendation_score.append(score)\n",
    "        recommended_products.append(df.loc[df.product_id_cat == idx, \"product_id\"].iloc[0])\n",
    "    result = pd.DataFrame(data = {\"product_id\":recommended_products,\"recommendation_score\":recommendation_score})\n",
    "    result = pd.merge(result,products_df,on=\"product_id\",how=\"left\")\n",
    "    return result\n",
    "\n",
    "# Returns a dataframe with \"n\" similar products\n",
    "def getSimilarProducts(df,product_id,n_similar=10):\n",
    "    model = joblib.load(\"model\")\n",
    "    item_id = df.loc[df.product_id==product_id,\"product_id_cat\"].iloc[0]\n",
    "    similar = model.similar_items(item_id, n_similar)\n",
    "    product_ids = []\n",
    "    similarity_score =[]\n",
    "    for item in similar:\n",
    "        idx, score = item\n",
    "        similarity_score.append(score)\n",
    "        product_ids.append(df.loc[df.product_id_cat == idx, \"product_id\"].iloc[0])\n",
    "    result = pd.DataFrame(data = {\"product_id\":product_ids,\"similarity_score\":similarity_score})\n",
    "    result = pd.merge(result,products_df,on=\"product_id\",how=\"left\")\n",
    "    return result"
   ]
  },
  {
   "cell_type": "code",
   "execution_count": null,
   "id": "2e0fe0f6",
   "metadata": {},
   "outputs": [],
   "source": []
  },
  {
   "cell_type": "code",
   "execution_count": 5,
   "id": "eadd7ae9",
   "metadata": {},
   "outputs": [],
   "source": [
    "def make_train(ratings, pct_test = 0.2):\n",
    "    test_set = ratings.copy() # Make a copy of the original set to be the test set. \n",
    "    #test_set[test_set != 0] = 1 # Store the test set as a binary preference matrix\n",
    "    training_set = ratings.copy() # Make a copy of the original data we can alter as our training set. \n",
    "    nonzero_inds = training_set.nonzero() # Find the indices in the ratings data where an interaction exists\n",
    "    nonzero_pairs = list(zip(nonzero_inds[0], nonzero_inds[1])) # Zip these pairs together of user,item index into list\n",
    "    random.seed(0) # Set the random seed to zero for reproducibility\n",
    "    num_samples = int(np.ceil(pct_test*len(nonzero_pairs))) # Round the number of samples needed to the nearest integer\n",
    "    samples = random.sample(nonzero_pairs, num_samples) # Sample a random number of user-item pairs without replacement\n",
    "    user_inds = [index[0] for index in samples] # Get the user row indices\n",
    "    item_inds = [index[1] for index in samples] # Get the item column indices\n",
    "    training_set[user_inds, item_inds] = 0 # Assign all of the randomly chosen user-item pairs to zero\n",
    "    training_set.eliminate_zeros() # Get rid of zeros in sparse array storage after update to save space\n",
    "    return training_set, test_set, samples # Output the unique list of user rows that were altered #list(set(user_inds))"
   ]
  },
  {
   "cell_type": "code",
   "execution_count": 22,
   "id": "06a77375",
   "metadata": {},
   "outputs": [],
   "source": [
    "#generating sparse matrix from the preprocessed dataframe\n",
    "sparse_product_household,sparse_household_product = createSparseMatrix(result)\n",
    "product_train, product_test, product_users_altered = make_train(sparse_household_product, pct_test = 0.05)"
   ]
  },
  {
   "cell_type": "code",
   "execution_count": 23,
   "id": "fe0c1ee6",
   "metadata": {},
   "outputs": [
    {
     "data": {
      "application/vnd.jupyter.widget-view+json": {
       "model_id": "cf4c739d71f94be39de9d0d78f7ca7f8",
       "version_major": 2,
       "version_minor": 0
      },
      "text/plain": [
       "  0%|          | 0/100 [00:00<?, ?it/s]"
      ]
     },
     "metadata": {},
     "output_type": "display_data"
    }
   ],
   "source": [
    "trainModel(product_train.T)"
   ]
  },
  {
   "cell_type": "code",
   "execution_count": 31,
   "id": "30e9e5e8",
   "metadata": {},
   "outputs": [],
   "source": [
    "def testAccuracy(product_test, product_train, product_users_altered,sparse_household_product): \n",
    "    predicted_weights = []\n",
    "    actual_weights = []\n",
    "    model = joblib.load(\"model\")\n",
    "    for user_id, product_id in product_users_altered:\n",
    "        result = model.explain(user_id,sparse_household_product,product_id)\n",
    "        predicted_weights.append(result[0])\n",
    "        actual_weights.append(product_test[user_id,product_id])\n",
    "    error = 0\n",
    "    for index in range(0,len(predicted_weights)):\n",
    "        error = error + np.square(predicted_weights[index] - actual_weights[index])\n",
    "    error = error/len(predicted_weights)\n",
    "    print(np.sqrt(error))\n",
    "    return np.sqrt(error)"
   ]
  },
  {
   "cell_type": "code",
   "execution_count": 35,
   "id": "98459166",
   "metadata": {},
   "outputs": [],
   "source": [
    "def PerformHyperParamterTuning():\n",
    "    latent_factors = [20,40]\n",
    "    regularization_rates = [0.1,0.2,0.3]\n",
    "    n_iterations = [50,100]\n",
    "    alpha_vals = [15,25]\n",
    "    result = []\n",
    "    for latent_factor in latent_factors:\n",
    "        for regularization_rate in regularization_rates:\n",
    "            for n in n_iterations:\n",
    "                for alpha_val in alpha_vals:\n",
    "                    trainModel(product_train.T,latent_factor,regularization_rate,n,alpha_val)\n",
    "                    rmse = testAccuracy(product_test,product_train,product_users_altered,sparse_household_product)\n",
    "                    result.append((latent_factor,regularization_rate,n,alpha_val,rmse))   \n",
    "    return result"
   ]
  },
  {
   "cell_type": "code",
   "execution_count": 36,
   "id": "f3de9d02",
   "metadata": {},
   "outputs": [
    {
     "data": {
      "application/vnd.jupyter.widget-view+json": {
       "model_id": "a04e63a075e644d6ab9491840ecfeb01",
       "version_major": 2,
       "version_minor": 0
      },
      "text/plain": [
       "  0%|          | 0/50 [00:00<?, ?it/s]"
      ]
     },
     "metadata": {},
     "output_type": "display_data"
    },
    {
     "name": "stdout",
     "output_type": "stream",
     "text": [
      "1.6265546368492119\n"
     ]
    },
    {
     "data": {
      "application/vnd.jupyter.widget-view+json": {
       "model_id": "3d064f9febea4b5f810dc7f44024566c",
       "version_major": 2,
       "version_minor": 0
      },
      "text/plain": [
       "  0%|          | 0/50 [00:00<?, ?it/s]"
      ]
     },
     "metadata": {},
     "output_type": "display_data"
    },
    {
     "name": "stdout",
     "output_type": "stream",
     "text": [
      "1.633109381116127\n"
     ]
    },
    {
     "data": {
      "application/vnd.jupyter.widget-view+json": {
       "model_id": "592cfdb394db421b8712b6cfcde17575",
       "version_major": 2,
       "version_minor": 0
      },
      "text/plain": [
       "  0%|          | 0/100 [00:00<?, ?it/s]"
      ]
     },
     "metadata": {},
     "output_type": "display_data"
    },
    {
     "name": "stdout",
     "output_type": "stream",
     "text": [
      "1.6258265779674606\n"
     ]
    },
    {
     "data": {
      "application/vnd.jupyter.widget-view+json": {
       "model_id": "9243a65c89204cd697af8f07476795b1",
       "version_major": 2,
       "version_minor": 0
      },
      "text/plain": [
       "  0%|          | 0/100 [00:00<?, ?it/s]"
      ]
     },
     "metadata": {},
     "output_type": "display_data"
    },
    {
     "name": "stdout",
     "output_type": "stream",
     "text": [
      "1.6330302013634177\n"
     ]
    },
    {
     "data": {
      "application/vnd.jupyter.widget-view+json": {
       "model_id": "d7a2576ecd804844816854bc2d450431",
       "version_major": 2,
       "version_minor": 0
      },
      "text/plain": [
       "  0%|          | 0/50 [00:00<?, ?it/s]"
      ]
     },
     "metadata": {},
     "output_type": "display_data"
    },
    {
     "name": "stdout",
     "output_type": "stream",
     "text": [
      "1.6263144899132689\n"
     ]
    },
    {
     "data": {
      "application/vnd.jupyter.widget-view+json": {
       "model_id": "e0cd45f04ad0450b97d6de47ef5510eb",
       "version_major": 2,
       "version_minor": 0
      },
      "text/plain": [
       "  0%|          | 0/50 [00:00<?, ?it/s]"
      ]
     },
     "metadata": {},
     "output_type": "display_data"
    },
    {
     "name": "stdout",
     "output_type": "stream",
     "text": [
      "1.6337002463350747\n"
     ]
    },
    {
     "data": {
      "application/vnd.jupyter.widget-view+json": {
       "model_id": "2db54259a1d0497daae695111d4234ab",
       "version_major": 2,
       "version_minor": 0
      },
      "text/plain": [
       "  0%|          | 0/100 [00:00<?, ?it/s]"
      ]
     },
     "metadata": {},
     "output_type": "display_data"
    },
    {
     "name": "stdout",
     "output_type": "stream",
     "text": [
      "1.6261549208348731\n"
     ]
    },
    {
     "data": {
      "application/vnd.jupyter.widget-view+json": {
       "model_id": "692efd1ff1294699b95a1fe2090e44b4",
       "version_major": 2,
       "version_minor": 0
      },
      "text/plain": [
       "  0%|          | 0/100 [00:00<?, ?it/s]"
      ]
     },
     "metadata": {},
     "output_type": "display_data"
    },
    {
     "name": "stdout",
     "output_type": "stream",
     "text": [
      "1.6332107037637618\n"
     ]
    },
    {
     "data": {
      "application/vnd.jupyter.widget-view+json": {
       "model_id": "2b415eaea1ed44d4a061802931605df1",
       "version_major": 2,
       "version_minor": 0
      },
      "text/plain": [
       "  0%|          | 0/50 [00:00<?, ?it/s]"
      ]
     },
     "metadata": {},
     "output_type": "display_data"
    },
    {
     "name": "stdout",
     "output_type": "stream",
     "text": [
      "1.6267042788843322\n"
     ]
    },
    {
     "data": {
      "application/vnd.jupyter.widget-view+json": {
       "model_id": "38c663e9e17b4894b5d3fbabf7c42424",
       "version_major": 2,
       "version_minor": 0
      },
      "text/plain": [
       "  0%|          | 0/50 [00:00<?, ?it/s]"
      ]
     },
     "metadata": {},
     "output_type": "display_data"
    },
    {
     "name": "stdout",
     "output_type": "stream",
     "text": [
      "1.6337577993459704\n"
     ]
    },
    {
     "data": {
      "application/vnd.jupyter.widget-view+json": {
       "model_id": "b00e3e806eca4cc7900452b94929555b",
       "version_major": 2,
       "version_minor": 0
      },
      "text/plain": [
       "  0%|          | 0/100 [00:00<?, ?it/s]"
      ]
     },
     "metadata": {},
     "output_type": "display_data"
    },
    {
     "name": "stdout",
     "output_type": "stream",
     "text": [
      "1.6263180973333882\n"
     ]
    },
    {
     "data": {
      "application/vnd.jupyter.widget-view+json": {
       "model_id": "f9455e6f4dc04fa4b9e0bc68801f2c19",
       "version_major": 2,
       "version_minor": 0
      },
      "text/plain": [
       "  0%|          | 0/100 [00:00<?, ?it/s]"
      ]
     },
     "metadata": {},
     "output_type": "display_data"
    },
    {
     "name": "stdout",
     "output_type": "stream",
     "text": [
      "1.6333245065828472\n"
     ]
    },
    {
     "data": {
      "application/vnd.jupyter.widget-view+json": {
       "model_id": "643b5b32bf424411a7cf3763afc9b7b5",
       "version_major": 2,
       "version_minor": 0
      },
      "text/plain": [
       "  0%|          | 0/50 [00:00<?, ?it/s]"
      ]
     },
     "metadata": {},
     "output_type": "display_data"
    },
    {
     "name": "stdout",
     "output_type": "stream",
     "text": [
      "1.6176124809444536\n"
     ]
    },
    {
     "data": {
      "application/vnd.jupyter.widget-view+json": {
       "model_id": "ee2f3a1dc4f945e58c0b73d404428130",
       "version_major": 2,
       "version_minor": 0
      },
      "text/plain": [
       "  0%|          | 0/50 [00:00<?, ?it/s]"
      ]
     },
     "metadata": {},
     "output_type": "display_data"
    },
    {
     "name": "stdout",
     "output_type": "stream",
     "text": [
      "1.6224580353003768\n"
     ]
    },
    {
     "data": {
      "application/vnd.jupyter.widget-view+json": {
       "model_id": "27011e07c0fa449f933b6ff3822514cc",
       "version_major": 2,
       "version_minor": 0
      },
      "text/plain": [
       "  0%|          | 0/100 [00:00<?, ?it/s]"
      ]
     },
     "metadata": {},
     "output_type": "display_data"
    },
    {
     "name": "stdout",
     "output_type": "stream",
     "text": [
      "1.6172986479792624\n"
     ]
    },
    {
     "data": {
      "application/vnd.jupyter.widget-view+json": {
       "model_id": "a78ca17c9f7f4d3fad2415a1ea62a100",
       "version_major": 2,
       "version_minor": 0
      },
      "text/plain": [
       "  0%|          | 0/100 [00:00<?, ?it/s]"
      ]
     },
     "metadata": {},
     "output_type": "display_data"
    },
    {
     "name": "stdout",
     "output_type": "stream",
     "text": [
      "1.6217312464684566\n"
     ]
    },
    {
     "data": {
      "application/vnd.jupyter.widget-view+json": {
       "model_id": "2b4202cb049746a28cc0244803fc0000",
       "version_major": 2,
       "version_minor": 0
      },
      "text/plain": [
       "  0%|          | 0/50 [00:00<?, ?it/s]"
      ]
     },
     "metadata": {},
     "output_type": "display_data"
    },
    {
     "name": "stdout",
     "output_type": "stream",
     "text": [
      "1.6175610434484888\n"
     ]
    },
    {
     "data": {
      "application/vnd.jupyter.widget-view+json": {
       "model_id": "b1c64bd9078443ff8bdac4eb975ffba8",
       "version_major": 2,
       "version_minor": 0
      },
      "text/plain": [
       "  0%|          | 0/50 [00:00<?, ?it/s]"
      ]
     },
     "metadata": {},
     "output_type": "display_data"
    },
    {
     "name": "stdout",
     "output_type": "stream",
     "text": [
      "1.6227326909474888\n"
     ]
    },
    {
     "data": {
      "application/vnd.jupyter.widget-view+json": {
       "model_id": "0917ab304dab41bc86d6f490670fb1c6",
       "version_major": 2,
       "version_minor": 0
      },
      "text/plain": [
       "  0%|          | 0/100 [00:00<?, ?it/s]"
      ]
     },
     "metadata": {},
     "output_type": "display_data"
    },
    {
     "name": "stdout",
     "output_type": "stream",
     "text": [
      "1.6165596135371734\n"
     ]
    },
    {
     "data": {
      "application/vnd.jupyter.widget-view+json": {
       "model_id": "bebe9505bd994c57a0b91541bc37bd0c",
       "version_major": 2,
       "version_minor": 0
      },
      "text/plain": [
       "  0%|          | 0/100 [00:00<?, ?it/s]"
      ]
     },
     "metadata": {},
     "output_type": "display_data"
    },
    {
     "name": "stdout",
     "output_type": "stream",
     "text": [
      "1.6226680272977922\n"
     ]
    },
    {
     "data": {
      "application/vnd.jupyter.widget-view+json": {
       "model_id": "06bf9abe61264e56a9ef0e929f9d1eb7",
       "version_major": 2,
       "version_minor": 0
      },
      "text/plain": [
       "  0%|          | 0/50 [00:00<?, ?it/s]"
      ]
     },
     "metadata": {},
     "output_type": "display_data"
    },
    {
     "name": "stdout",
     "output_type": "stream",
     "text": [
      "1.6178207509435216\n"
     ]
    },
    {
     "data": {
      "application/vnd.jupyter.widget-view+json": {
       "model_id": "40af67a4a2ca455ab5571508661715b8",
       "version_major": 2,
       "version_minor": 0
      },
      "text/plain": [
       "  0%|          | 0/50 [00:00<?, ?it/s]"
      ]
     },
     "metadata": {},
     "output_type": "display_data"
    },
    {
     "name": "stdout",
     "output_type": "stream",
     "text": [
      "1.6233123857588398\n"
     ]
    },
    {
     "data": {
      "application/vnd.jupyter.widget-view+json": {
       "model_id": "841126209f864dd193f283ed03f0e57a",
       "version_major": 2,
       "version_minor": 0
      },
      "text/plain": [
       "  0%|          | 0/100 [00:00<?, ?it/s]"
      ]
     },
     "metadata": {},
     "output_type": "display_data"
    },
    {
     "name": "stdout",
     "output_type": "stream",
     "text": [
      "1.6173550476645815\n"
     ]
    },
    {
     "data": {
      "application/vnd.jupyter.widget-view+json": {
       "model_id": "caa5f48fe86e40eca14661efc5fd82a5",
       "version_major": 2,
       "version_minor": 0
      },
      "text/plain": [
       "  0%|          | 0/100 [00:00<?, ?it/s]"
      ]
     },
     "metadata": {},
     "output_type": "display_data"
    },
    {
     "name": "stdout",
     "output_type": "stream",
     "text": [
      "1.6219376555843048\n"
     ]
    }
   ],
   "source": [
    "accuracy_scores = PerformHyperParamterTuning()"
   ]
  },
  {
   "cell_type": "code",
   "execution_count": 37,
   "id": "ccdcad06",
   "metadata": {},
   "outputs": [
    {
     "data": {
      "text/plain": [
       "[(20, 0.1, 50, 15, 1.6265546368492119),\n",
       " (20, 0.1, 50, 25, 1.633109381116127),\n",
       " (20, 0.1, 100, 15, 1.6258265779674606),\n",
       " (20, 0.1, 100, 25, 1.6330302013634177),\n",
       " (20, 0.2, 50, 15, 1.6263144899132689),\n",
       " (20, 0.2, 50, 25, 1.6337002463350747),\n",
       " (20, 0.2, 100, 15, 1.6261549208348731),\n",
       " (20, 0.2, 100, 25, 1.6332107037637618),\n",
       " (20, 0.3, 50, 15, 1.6267042788843322),\n",
       " (20, 0.3, 50, 25, 1.6337577993459704),\n",
       " (20, 0.3, 100, 15, 1.6263180973333882),\n",
       " (20, 0.3, 100, 25, 1.6333245065828472),\n",
       " (40, 0.1, 50, 15, 1.6176124809444536),\n",
       " (40, 0.1, 50, 25, 1.6224580353003768),\n",
       " (40, 0.1, 100, 15, 1.6172986479792624),\n",
       " (40, 0.1, 100, 25, 1.6217312464684566),\n",
       " (40, 0.2, 50, 15, 1.6175610434484888),\n",
       " (40, 0.2, 50, 25, 1.6227326909474888),\n",
       " (40, 0.2, 100, 15, 1.6165596135371734),\n",
       " (40, 0.2, 100, 25, 1.6226680272977922),\n",
       " (40, 0.3, 50, 15, 1.6178207509435216),\n",
       " (40, 0.3, 50, 25, 1.6233123857588398),\n",
       " (40, 0.3, 100, 15, 1.6173550476645815),\n",
       " (40, 0.3, 100, 25, 1.6219376555843048)]"
      ]
     },
     "execution_count": 37,
     "metadata": {},
     "output_type": "execute_result"
    }
   ],
   "source": [
    "accuracy_scores"
   ]
  },
  {
   "cell_type": "code",
   "execution_count": 77,
   "id": "4777a1d9",
   "metadata": {},
   "outputs": [
    {
     "data": {
      "text/html": [
       "<div>\n",
       "<style scoped>\n",
       "    .dataframe tbody tr th:only-of-type {\n",
       "        vertical-align: middle;\n",
       "    }\n",
       "\n",
       "    .dataframe tbody tr th {\n",
       "        vertical-align: top;\n",
       "    }\n",
       "\n",
       "    .dataframe thead th {\n",
       "        text-align: right;\n",
       "    }\n",
       "</style>\n",
       "<table border=\"1\" class=\"dataframe\">\n",
       "  <thead>\n",
       "    <tr style=\"text-align: right;\">\n",
       "      <th></th>\n",
       "      <th>Latent_Factors</th>\n",
       "      <th>Regularization_Rate</th>\n",
       "      <th>Iterations</th>\n",
       "      <th>Alpha</th>\n",
       "      <th>RMSE</th>\n",
       "    </tr>\n",
       "  </thead>\n",
       "  <tbody>\n",
       "    <tr>\n",
       "      <th>0</th>\n",
       "      <td>20</td>\n",
       "      <td>0.3</td>\n",
       "      <td>50</td>\n",
       "      <td>25</td>\n",
       "      <td>1.633758</td>\n",
       "    </tr>\n",
       "    <tr>\n",
       "      <th>1</th>\n",
       "      <td>20</td>\n",
       "      <td>0.2</td>\n",
       "      <td>50</td>\n",
       "      <td>25</td>\n",
       "      <td>1.633700</td>\n",
       "    </tr>\n",
       "    <tr>\n",
       "      <th>2</th>\n",
       "      <td>20</td>\n",
       "      <td>0.3</td>\n",
       "      <td>100</td>\n",
       "      <td>25</td>\n",
       "      <td>1.633325</td>\n",
       "    </tr>\n",
       "    <tr>\n",
       "      <th>3</th>\n",
       "      <td>20</td>\n",
       "      <td>0.2</td>\n",
       "      <td>100</td>\n",
       "      <td>25</td>\n",
       "      <td>1.633211</td>\n",
       "    </tr>\n",
       "    <tr>\n",
       "      <th>4</th>\n",
       "      <td>20</td>\n",
       "      <td>0.1</td>\n",
       "      <td>50</td>\n",
       "      <td>25</td>\n",
       "      <td>1.633109</td>\n",
       "    </tr>\n",
       "    <tr>\n",
       "      <th>5</th>\n",
       "      <td>20</td>\n",
       "      <td>0.1</td>\n",
       "      <td>100</td>\n",
       "      <td>25</td>\n",
       "      <td>1.633030</td>\n",
       "    </tr>\n",
       "    <tr>\n",
       "      <th>6</th>\n",
       "      <td>20</td>\n",
       "      <td>0.3</td>\n",
       "      <td>50</td>\n",
       "      <td>15</td>\n",
       "      <td>1.626704</td>\n",
       "    </tr>\n",
       "    <tr>\n",
       "      <th>7</th>\n",
       "      <td>20</td>\n",
       "      <td>0.1</td>\n",
       "      <td>50</td>\n",
       "      <td>15</td>\n",
       "      <td>1.626555</td>\n",
       "    </tr>\n",
       "    <tr>\n",
       "      <th>8</th>\n",
       "      <td>20</td>\n",
       "      <td>0.3</td>\n",
       "      <td>100</td>\n",
       "      <td>15</td>\n",
       "      <td>1.626318</td>\n",
       "    </tr>\n",
       "    <tr>\n",
       "      <th>9</th>\n",
       "      <td>20</td>\n",
       "      <td>0.2</td>\n",
       "      <td>50</td>\n",
       "      <td>15</td>\n",
       "      <td>1.626314</td>\n",
       "    </tr>\n",
       "    <tr>\n",
       "      <th>10</th>\n",
       "      <td>20</td>\n",
       "      <td>0.2</td>\n",
       "      <td>100</td>\n",
       "      <td>15</td>\n",
       "      <td>1.626155</td>\n",
       "    </tr>\n",
       "    <tr>\n",
       "      <th>11</th>\n",
       "      <td>20</td>\n",
       "      <td>0.1</td>\n",
       "      <td>100</td>\n",
       "      <td>15</td>\n",
       "      <td>1.625827</td>\n",
       "    </tr>\n",
       "    <tr>\n",
       "      <th>12</th>\n",
       "      <td>40</td>\n",
       "      <td>0.3</td>\n",
       "      <td>50</td>\n",
       "      <td>25</td>\n",
       "      <td>1.623312</td>\n",
       "    </tr>\n",
       "    <tr>\n",
       "      <th>13</th>\n",
       "      <td>40</td>\n",
       "      <td>0.2</td>\n",
       "      <td>50</td>\n",
       "      <td>25</td>\n",
       "      <td>1.622733</td>\n",
       "    </tr>\n",
       "    <tr>\n",
       "      <th>14</th>\n",
       "      <td>40</td>\n",
       "      <td>0.2</td>\n",
       "      <td>100</td>\n",
       "      <td>25</td>\n",
       "      <td>1.622668</td>\n",
       "    </tr>\n",
       "    <tr>\n",
       "      <th>15</th>\n",
       "      <td>40</td>\n",
       "      <td>0.1</td>\n",
       "      <td>50</td>\n",
       "      <td>25</td>\n",
       "      <td>1.622458</td>\n",
       "    </tr>\n",
       "    <tr>\n",
       "      <th>16</th>\n",
       "      <td>40</td>\n",
       "      <td>0.3</td>\n",
       "      <td>100</td>\n",
       "      <td>25</td>\n",
       "      <td>1.621938</td>\n",
       "    </tr>\n",
       "    <tr>\n",
       "      <th>17</th>\n",
       "      <td>40</td>\n",
       "      <td>0.1</td>\n",
       "      <td>100</td>\n",
       "      <td>25</td>\n",
       "      <td>1.621731</td>\n",
       "    </tr>\n",
       "    <tr>\n",
       "      <th>18</th>\n",
       "      <td>40</td>\n",
       "      <td>0.3</td>\n",
       "      <td>50</td>\n",
       "      <td>15</td>\n",
       "      <td>1.617821</td>\n",
       "    </tr>\n",
       "    <tr>\n",
       "      <th>19</th>\n",
       "      <td>40</td>\n",
       "      <td>0.1</td>\n",
       "      <td>50</td>\n",
       "      <td>15</td>\n",
       "      <td>1.617612</td>\n",
       "    </tr>\n",
       "    <tr>\n",
       "      <th>20</th>\n",
       "      <td>40</td>\n",
       "      <td>0.2</td>\n",
       "      <td>50</td>\n",
       "      <td>15</td>\n",
       "      <td>1.617561</td>\n",
       "    </tr>\n",
       "    <tr>\n",
       "      <th>21</th>\n",
       "      <td>40</td>\n",
       "      <td>0.3</td>\n",
       "      <td>100</td>\n",
       "      <td>15</td>\n",
       "      <td>1.617355</td>\n",
       "    </tr>\n",
       "    <tr>\n",
       "      <th>22</th>\n",
       "      <td>40</td>\n",
       "      <td>0.1</td>\n",
       "      <td>100</td>\n",
       "      <td>15</td>\n",
       "      <td>1.617299</td>\n",
       "    </tr>\n",
       "    <tr>\n",
       "      <th>23</th>\n",
       "      <td>40</td>\n",
       "      <td>0.2</td>\n",
       "      <td>100</td>\n",
       "      <td>15</td>\n",
       "      <td>1.616560</td>\n",
       "    </tr>\n",
       "  </tbody>\n",
       "</table>\n",
       "</div>"
      ],
      "text/plain": [
       "    Latent_Factors  Regularization_Rate  Iterations  Alpha      RMSE\n",
       "0               20                  0.3          50     25  1.633758\n",
       "1               20                  0.2          50     25  1.633700\n",
       "2               20                  0.3         100     25  1.633325\n",
       "3               20                  0.2         100     25  1.633211\n",
       "4               20                  0.1          50     25  1.633109\n",
       "5               20                  0.1         100     25  1.633030\n",
       "6               20                  0.3          50     15  1.626704\n",
       "7               20                  0.1          50     15  1.626555\n",
       "8               20                  0.3         100     15  1.626318\n",
       "9               20                  0.2          50     15  1.626314\n",
       "10              20                  0.2         100     15  1.626155\n",
       "11              20                  0.1         100     15  1.625827\n",
       "12              40                  0.3          50     25  1.623312\n",
       "13              40                  0.2          50     25  1.622733\n",
       "14              40                  0.2         100     25  1.622668\n",
       "15              40                  0.1          50     25  1.622458\n",
       "16              40                  0.3         100     25  1.621938\n",
       "17              40                  0.1         100     25  1.621731\n",
       "18              40                  0.3          50     15  1.617821\n",
       "19              40                  0.1          50     15  1.617612\n",
       "20              40                  0.2          50     15  1.617561\n",
       "21              40                  0.3         100     15  1.617355\n",
       "22              40                  0.1         100     15  1.617299\n",
       "23              40                  0.2         100     15  1.616560"
      ]
     },
     "execution_count": 77,
     "metadata": {},
     "output_type": "execute_result"
    }
   ],
   "source": [
    "performance  = pd.DataFrame(accuracy_scores,columns=[\"Latent_Factors\",\"Regularization_Rate\",\"Iterations\",\"Alpha\",\"RMSE\"])\n",
    "performance.sort_values(by=\"RMSE\",ascending=False, inplace=True)\n",
    "performance.reset_index(drop=True)"
   ]
  },
  {
   "cell_type": "code",
   "execution_count": 78,
   "id": "dc798cc1",
   "metadata": {},
   "outputs": [],
   "source": [
    "performance.to_csv(\"RMSE.csv\",index=False)"
   ]
  },
  {
   "cell_type": "code",
   "execution_count": 80,
   "id": "5dbaf596",
   "metadata": {},
   "outputs": [],
   "source": [
    "sns.set()\n",
    "import seaborn as sns\n",
    "import matplotlib.pyplot as plt\n",
    "plt.rcParams[\"figure.figsize\"] = (12,8)"
   ]
  },
  {
   "cell_type": "code",
   "execution_count": 83,
   "id": "e5407f11",
   "metadata": {},
   "outputs": [
    {
     "name": "stderr",
     "output_type": "stream",
     "text": [
      "C:\\Users\\Shirish Shinde\\anaconda3\\lib\\site-packages\\seaborn\\_decorators.py:36: FutureWarning: Pass the following variables as keyword args: x, y. From version 0.12, the only valid positional argument will be `data`, and passing other arguments without an explicit keyword will result in an error or misinterpretation.\n",
      "  warnings.warn(\n"
     ]
    },
    {
     "data": {
      "image/png": "[encoded data removed]",
      "text/plain": [
       "<Figure size 864x576 with 1 Axes>"
      ]
     },
     "metadata": {},
     "output_type": "display_data"
    }
   ],
   "source": [
    "sns.lineplot(range(24),performance.RMSE)\n",
    "plt.xlabel(\"Model Number\",size = 16)\n",
    "plt.xticks(range(0,24))\n",
    "plt.ylabel(\"RMSE Score\",size= 16)\n",
    "plt.title(\"Evaluating Model's Performance using RMSE Score\",size=24)\n",
    "plt.show()"
   ]
  },
  {
   "cell_type": "code",
   "execution_count": null,
   "id": "0a6abe34",
   "metadata": {},
   "outputs": [],
   "source": []
  },
  {
   "cell_type": "code",
   "execution_count": 46,
   "id": "385b5864",
   "metadata": {},
   "outputs": [
    {
     "data": {
      "text/html": [
       "<div>\n",
       "<style scoped>\n",
       "    .dataframe tbody tr th:only-of-type {\n",
       "        vertical-align: middle;\n",
       "    }\n",
       "\n",
       "    .dataframe tbody tr th {\n",
       "        vertical-align: top;\n",
       "    }\n",
       "\n",
       "    .dataframe thead th {\n",
       "        text-align: right;\n",
       "    }\n",
       "</style>\n",
       "<table border=\"1\" class=\"dataframe\">\n",
       "  <thead>\n",
       "    <tr style=\"text-align: right;\">\n",
       "      <th></th>\n",
       "      <th>product_id</th>\n",
       "      <th>recommendation_score</th>\n",
       "      <th>manufacturer_id</th>\n",
       "      <th>department</th>\n",
       "      <th>brand</th>\n",
       "      <th>product_category</th>\n",
       "      <th>product_type</th>\n",
       "      <th>package_size</th>\n",
       "    </tr>\n",
       "  </thead>\n",
       "  <tbody>\n",
       "    <tr>\n",
       "      <th>0</th>\n",
       "      <td>9677366.0</td>\n",
       "      <td>1.791176</td>\n",
       "      <td>764</td>\n",
       "      <td>GROCERY</td>\n",
       "      <td>National</td>\n",
       "      <td>PAPER TOWELS</td>\n",
       "      <td>PAPER TOWELS &amp; HOLDERS</td>\n",
       "      <td>352 SQ FT</td>\n",
       "    </tr>\n",
       "    <tr>\n",
       "      <th>1</th>\n",
       "      <td>1043494.0</td>\n",
       "      <td>1.768208</td>\n",
       "      <td>1039</td>\n",
       "      <td>GROCERY</td>\n",
       "      <td>National</td>\n",
       "      <td>FROZEN PIZZA</td>\n",
       "      <td>SNACKS/APPETIZERS</td>\n",
       "      <td>NaN</td>\n",
       "    </tr>\n",
       "    <tr>\n",
       "      <th>2</th>\n",
       "      <td>1128016.0</td>\n",
       "      <td>1.748075</td>\n",
       "      <td>988</td>\n",
       "      <td>GROCERY</td>\n",
       "      <td>National</td>\n",
       "      <td>MEAT - SHELF STABLE</td>\n",
       "      <td>CHILI: CANNED</td>\n",
       "      <td>15 OZ</td>\n",
       "    </tr>\n",
       "    <tr>\n",
       "      <th>3</th>\n",
       "      <td>1103741.0</td>\n",
       "      <td>1.735159</td>\n",
       "      <td>827</td>\n",
       "      <td>GROCERY</td>\n",
       "      <td>National</td>\n",
       "      <td>FRUIT - SHELF STABLE</td>\n",
       "      <td>MANDARIN ORANGES/CITRUS SECT</td>\n",
       "      <td>15 OZ</td>\n",
       "    </tr>\n",
       "    <tr>\n",
       "      <th>4</th>\n",
       "      <td>951821.0</td>\n",
       "      <td>1.724735</td>\n",
       "      <td>2186</td>\n",
       "      <td>MEAT-PCKGD</td>\n",
       "      <td>National</td>\n",
       "      <td>LUNCHMEAT</td>\n",
       "      <td>MISCELLANEOUS</td>\n",
       "      <td>8 OZ</td>\n",
       "    </tr>\n",
       "    <tr>\n",
       "      <th>5</th>\n",
       "      <td>9878513.0</td>\n",
       "      <td>1.704901</td>\n",
       "      <td>69</td>\n",
       "      <td>GROCERY</td>\n",
       "      <td>Private</td>\n",
       "      <td>FACIAL TISS/DNR NAPKIN</td>\n",
       "      <td>FACIAL TISSUE &amp; PAPER HANDKE</td>\n",
       "      <td>85 CT</td>\n",
       "    </tr>\n",
       "    <tr>\n",
       "      <th>6</th>\n",
       "      <td>862070.0</td>\n",
       "      <td>1.697986</td>\n",
       "      <td>531</td>\n",
       "      <td>GROCERY</td>\n",
       "      <td>National</td>\n",
       "      <td>CANNED JUICES</td>\n",
       "      <td>OTHER CITRUS JUICES (OVER 50%</td>\n",
       "      <td>64 OZ</td>\n",
       "    </tr>\n",
       "    <tr>\n",
       "      <th>7</th>\n",
       "      <td>1101174.0</td>\n",
       "      <td>1.690250</td>\n",
       "      <td>1251</td>\n",
       "      <td>GROCERY</td>\n",
       "      <td>National</td>\n",
       "      <td>SOUP</td>\n",
       "      <td>CONDENSED SOUP</td>\n",
       "      <td>10.75 OZ</td>\n",
       "    </tr>\n",
       "    <tr>\n",
       "      <th>8</th>\n",
       "      <td>1110764.0</td>\n",
       "      <td>1.666240</td>\n",
       "      <td>988</td>\n",
       "      <td>GROCERY</td>\n",
       "      <td>National</td>\n",
       "      <td>MEAT - SHELF STABLE</td>\n",
       "      <td>CHILI: CANNED</td>\n",
       "      <td>10.5 OZ</td>\n",
       "    </tr>\n",
       "    <tr>\n",
       "      <th>9</th>\n",
       "      <td>954673.0</td>\n",
       "      <td>1.647356</td>\n",
       "      <td>1075</td>\n",
       "      <td>GROCERY</td>\n",
       "      <td>National</td>\n",
       "      <td>CRACKERS/MISC BKD FD</td>\n",
       "      <td>SNACK CRACKERS</td>\n",
       "      <td>10 OZ</td>\n",
       "    </tr>\n",
       "  </tbody>\n",
       "</table>\n",
       "</div>"
      ],
      "text/plain": [
       "   product_id  recommendation_score  manufacturer_id  department     brand  \\\n",
       "0   9677366.0              1.791176              764     GROCERY  National   \n",
       "1   1043494.0              1.768208             1039     GROCERY  National   \n",
       "2   1128016.0              1.748075              988     GROCERY  National   \n",
       "3   1103741.0              1.735159              827     GROCERY  National   \n",
       "4    951821.0              1.724735             2186  MEAT-PCKGD  National   \n",
       "5   9878513.0              1.704901               69     GROCERY   Private   \n",
       "6    862070.0              1.697986              531     GROCERY  National   \n",
       "7   1101174.0              1.690250             1251     GROCERY  National   \n",
       "8   1110764.0              1.666240              988     GROCERY  National   \n",
       "9    954673.0              1.647356             1075     GROCERY  National   \n",
       "\n",
       "         product_category                   product_type package_size  \n",
       "0            PAPER TOWELS         PAPER TOWELS & HOLDERS    352 SQ FT  \n",
       "1            FROZEN PIZZA              SNACKS/APPETIZERS          NaN  \n",
       "2     MEAT - SHELF STABLE                  CHILI: CANNED        15 OZ  \n",
       "3    FRUIT - SHELF STABLE   MANDARIN ORANGES/CITRUS SECT        15 OZ  \n",
       "4               LUNCHMEAT                  MISCELLANEOUS         8 OZ  \n",
       "5  FACIAL TISS/DNR NAPKIN   FACIAL TISSUE & PAPER HANDKE        85 CT  \n",
       "6           CANNED JUICES  OTHER CITRUS JUICES (OVER 50%        64 OZ  \n",
       "7                    SOUP                 CONDENSED SOUP     10.75 OZ  \n",
       "8     MEAT - SHELF STABLE                  CHILI: CANNED      10.5 OZ  \n",
       "9    CRACKERS/MISC BKD FD                 SNACK CRACKERS        10 OZ  "
      ]
     },
     "execution_count": 46,
     "metadata": {},
     "output_type": "execute_result"
    }
   ],
   "source": [
    "#Using ALS model to get recommendations\n",
    "recommendations = getRecommendations(result,2479,sparse_household_product)\n",
    "recommendations"
   ]
  },
  {
   "cell_type": "code",
   "execution_count": null,
   "id": "6b5f3459",
   "metadata": {},
   "outputs": [],
   "source": []
  },
  {
   "cell_type": "code",
   "execution_count": 47,
   "id": "d994d3bc",
   "metadata": {},
   "outputs": [
    {
     "data": {
      "application/vnd.jupyter.widget-view+json": {
       "model_id": "f2a2f09df39f4752a95b531b9b70980e",
       "version_major": 2,
       "version_minor": 0
      },
      "text/plain": [
       "  0%|          | 0/100 [00:00<?, ?it/s]"
      ]
     },
     "metadata": {},
     "output_type": "display_data"
    },
    {
     "data": {
      "text/html": [
       "<div>\n",
       "<style scoped>\n",
       "    .dataframe tbody tr th:only-of-type {\n",
       "        vertical-align: middle;\n",
       "    }\n",
       "\n",
       "    .dataframe tbody tr th {\n",
       "        vertical-align: top;\n",
       "    }\n",
       "\n",
       "    .dataframe thead th {\n",
       "        text-align: right;\n",
       "    }\n",
       "</style>\n",
       "<table border=\"1\" class=\"dataframe\">\n",
       "  <thead>\n",
       "    <tr style=\"text-align: right;\">\n",
       "      <th></th>\n",
       "      <th>product_id</th>\n",
       "      <th>recommendation_score</th>\n",
       "      <th>manufacturer_id</th>\n",
       "      <th>department</th>\n",
       "      <th>brand</th>\n",
       "      <th>product_category</th>\n",
       "      <th>product_type</th>\n",
       "      <th>package_size</th>\n",
       "    </tr>\n",
       "  </thead>\n",
       "  <tbody>\n",
       "    <tr>\n",
       "      <th>0</th>\n",
       "      <td>948953.0</td>\n",
       "      <td>1.634143</td>\n",
       "      <td>917</td>\n",
       "      <td>DRUG GM</td>\n",
       "      <td>National</td>\n",
       "      <td>BATTERIES</td>\n",
       "      <td>ALKALINE BATTERIES</td>\n",
       "      <td>NaN</td>\n",
       "    </tr>\n",
       "    <tr>\n",
       "      <th>1</th>\n",
       "      <td>8090532.0</td>\n",
       "      <td>1.420336</td>\n",
       "      <td>103</td>\n",
       "      <td>GROCERY</td>\n",
       "      <td>National</td>\n",
       "      <td>SOFT DRINKS</td>\n",
       "      <td>SOFT DRINKS 12/18&amp;15PK CAN CAR</td>\n",
       "      <td>12 OZ</td>\n",
       "    </tr>\n",
       "    <tr>\n",
       "      <th>2</th>\n",
       "      <td>1043128.0</td>\n",
       "      <td>1.264381</td>\n",
       "      <td>827</td>\n",
       "      <td>GROCERY</td>\n",
       "      <td>National</td>\n",
       "      <td>FRUIT - SHELF STABLE</td>\n",
       "      <td>PINEAPPLE</td>\n",
       "      <td>20 OZ</td>\n",
       "    </tr>\n",
       "    <tr>\n",
       "      <th>3</th>\n",
       "      <td>1051211.0</td>\n",
       "      <td>1.258394</td>\n",
       "      <td>1266</td>\n",
       "      <td>GROCERY</td>\n",
       "      <td>National</td>\n",
       "      <td>PNT BTR/JELLY/JAMS</td>\n",
       "      <td>PEANUT BUTTER</td>\n",
       "      <td>18 OZ</td>\n",
       "    </tr>\n",
       "    <tr>\n",
       "      <th>4</th>\n",
       "      <td>1091365.0</td>\n",
       "      <td>1.246848</td>\n",
       "      <td>2</td>\n",
       "      <td>SALAD BAR</td>\n",
       "      <td>National</td>\n",
       "      <td>SALAD BAR</td>\n",
       "      <td>SALAD BAR FRESH FRUIT</td>\n",
       "      <td>NaN</td>\n",
       "    </tr>\n",
       "    <tr>\n",
       "      <th>5</th>\n",
       "      <td>5572828.0</td>\n",
       "      <td>1.234684</td>\n",
       "      <td>2224</td>\n",
       "      <td>GROCERY</td>\n",
       "      <td>National</td>\n",
       "      <td>SOFT DRINKS</td>\n",
       "      <td>SFT DRNK SNGL SRV BTL CARB (EX</td>\n",
       "      <td>20 OZ</td>\n",
       "    </tr>\n",
       "    <tr>\n",
       "      <th>6</th>\n",
       "      <td>17104444.0</td>\n",
       "      <td>1.228172</td>\n",
       "      <td>693</td>\n",
       "      <td>DRUG GM</td>\n",
       "      <td>National</td>\n",
       "      <td>CANDY - PACKAGED</td>\n",
       "      <td>SEASONAL CANDY BAGS-CHOCOLATE</td>\n",
       "      <td>12 OZ</td>\n",
       "    </tr>\n",
       "    <tr>\n",
       "      <th>7</th>\n",
       "      <td>948670.0</td>\n",
       "      <td>1.221002</td>\n",
       "      <td>2</td>\n",
       "      <td>DRUG GM</td>\n",
       "      <td>National</td>\n",
       "      <td>TICKETS</td>\n",
       "      <td>TICKETS</td>\n",
       "      <td>NaN</td>\n",
       "    </tr>\n",
       "    <tr>\n",
       "      <th>8</th>\n",
       "      <td>921504.0</td>\n",
       "      <td>1.177196</td>\n",
       "      <td>4209</td>\n",
       "      <td>DELI</td>\n",
       "      <td>National</td>\n",
       "      <td>DELI MEATS</td>\n",
       "      <td>MEAT:HAM BULK</td>\n",
       "      <td>NaN</td>\n",
       "    </tr>\n",
       "    <tr>\n",
       "      <th>9</th>\n",
       "      <td>1110843.0</td>\n",
       "      <td>1.117946</td>\n",
       "      <td>2</td>\n",
       "      <td>SALAD BAR</td>\n",
       "      <td>National</td>\n",
       "      <td>SALAD BAR</td>\n",
       "      <td>SALAD BAR FRESH FRUIT</td>\n",
       "      <td>NaN</td>\n",
       "    </tr>\n",
       "  </tbody>\n",
       "</table>\n",
       "</div>"
      ],
      "text/plain": [
       "   product_id  recommendation_score  manufacturer_id department     brand  \\\n",
       "0    948953.0              1.634143              917    DRUG GM  National   \n",
       "1   8090532.0              1.420336              103    GROCERY  National   \n",
       "2   1043128.0              1.264381              827    GROCERY  National   \n",
       "3   1051211.0              1.258394             1266    GROCERY  National   \n",
       "4   1091365.0              1.246848                2  SALAD BAR  National   \n",
       "5   5572828.0              1.234684             2224    GROCERY  National   \n",
       "6  17104444.0              1.228172              693    DRUG GM  National   \n",
       "7    948670.0              1.221002                2    DRUG GM  National   \n",
       "8    921504.0              1.177196             4209       DELI  National   \n",
       "9   1110843.0              1.117946                2  SALAD BAR  National   \n",
       "\n",
       "       product_category                    product_type package_size  \n",
       "0             BATTERIES              ALKALINE BATTERIES          NaN  \n",
       "1           SOFT DRINKS  SOFT DRINKS 12/18&15PK CAN CAR        12 OZ  \n",
       "2  FRUIT - SHELF STABLE                       PINEAPPLE        20 OZ  \n",
       "3    PNT BTR/JELLY/JAMS                   PEANUT BUTTER        18 OZ  \n",
       "4             SALAD BAR           SALAD BAR FRESH FRUIT          NaN  \n",
       "5           SOFT DRINKS  SFT DRNK SNGL SRV BTL CARB (EX        20 OZ  \n",
       "6      CANDY - PACKAGED   SEASONAL CANDY BAGS-CHOCOLATE        12 OZ  \n",
       "7               TICKETS                         TICKETS          NaN  \n",
       "8            DELI MEATS                   MEAT:HAM BULK          NaN  \n",
       "9             SALAD BAR           SALAD BAR FRESH FRUIT          NaN  "
      ]
     },
     "execution_count": 47,
     "metadata": {},
     "output_type": "execute_result"
    }
   ],
   "source": [
    "#Recommendation by number of times a product was purchased in different transactions\n",
    "result = generateRequiredDataframe(transactions)\n",
    "sparse_product_household,sparse_household_product = createSparseMatrix(result)\n",
    "trainModel(sparse_product_household)\n",
    "recommendations = getRecommendations(result,1,sparse_household_product)\n",
    "recommendations"
   ]
  },
  {
   "cell_type": "code",
   "execution_count": 48,
   "id": "1bcbcb98",
   "metadata": {},
   "outputs": [
    {
     "data": {
      "text/html": [
       "<div>\n",
       "<style scoped>\n",
       "    .dataframe tbody tr th:only-of-type {\n",
       "        vertical-align: middle;\n",
       "    }\n",
       "\n",
       "    .dataframe tbody tr th {\n",
       "        vertical-align: top;\n",
       "    }\n",
       "\n",
       "    .dataframe thead th {\n",
       "        text-align: right;\n",
       "    }\n",
       "</style>\n",
       "<table border=\"1\" class=\"dataframe\">\n",
       "  <thead>\n",
       "    <tr style=\"text-align: right;\">\n",
       "      <th></th>\n",
       "      <th>product_id</th>\n",
       "      <th>similarity_score</th>\n",
       "      <th>manufacturer_id</th>\n",
       "      <th>department</th>\n",
       "      <th>brand</th>\n",
       "      <th>product_category</th>\n",
       "      <th>product_type</th>\n",
       "      <th>package_size</th>\n",
       "    </tr>\n",
       "  </thead>\n",
       "  <tbody>\n",
       "    <tr>\n",
       "      <th>0</th>\n",
       "      <td>8090532.0</td>\n",
       "      <td>1.000000</td>\n",
       "      <td>103</td>\n",
       "      <td>GROCERY</td>\n",
       "      <td>National</td>\n",
       "      <td>SOFT DRINKS</td>\n",
       "      <td>SOFT DRINKS 12/18&amp;15PK CAN CAR</td>\n",
       "      <td>12 OZ</td>\n",
       "    </tr>\n",
       "    <tr>\n",
       "      <th>1</th>\n",
       "      <td>12605292.0</td>\n",
       "      <td>0.751545</td>\n",
       "      <td>2551</td>\n",
       "      <td>DRUG GM</td>\n",
       "      <td>National</td>\n",
       "      <td>CHRISTMAS  SEASONAL</td>\n",
       "      <td>CHRISTMAS LIGHTS</td>\n",
       "      <td>20 CT</td>\n",
       "    </tr>\n",
       "    <tr>\n",
       "      <th>2</th>\n",
       "      <td>5589752.0</td>\n",
       "      <td>0.751545</td>\n",
       "      <td>69</td>\n",
       "      <td>GROCERY</td>\n",
       "      <td>Private</td>\n",
       "      <td>WATER - CARBONATED/FLVRD DRINK</td>\n",
       "      <td>DISTILLED WATER</td>\n",
       "      <td>GAL</td>\n",
       "    </tr>\n",
       "    <tr>\n",
       "      <th>3</th>\n",
       "      <td>12606012.0</td>\n",
       "      <td>0.751545</td>\n",
       "      <td>2551</td>\n",
       "      <td>DRUG GM</td>\n",
       "      <td>National</td>\n",
       "      <td>CHRISTMAS  SEASONAL</td>\n",
       "      <td>CHRISTMAS LIGHTS</td>\n",
       "      <td>NaN</td>\n",
       "    </tr>\n",
       "    <tr>\n",
       "      <th>4</th>\n",
       "      <td>12604493.0</td>\n",
       "      <td>0.751545</td>\n",
       "      <td>484</td>\n",
       "      <td>DRUG GM</td>\n",
       "      <td>National</td>\n",
       "      <td>CHRISTMAS  SEASONAL</td>\n",
       "      <td>DECOR</td>\n",
       "      <td>NaN</td>\n",
       "    </tr>\n",
       "    <tr>\n",
       "      <th>5</th>\n",
       "      <td>9190629.0</td>\n",
       "      <td>0.751545</td>\n",
       "      <td>2551</td>\n",
       "      <td>DRUG GM</td>\n",
       "      <td>National</td>\n",
       "      <td>ELECTRICAL SUPPPLIES</td>\n",
       "      <td>EXTENSION CORDS</td>\n",
       "      <td>NaN</td>\n",
       "    </tr>\n",
       "    <tr>\n",
       "      <th>6</th>\n",
       "      <td>12605734.0</td>\n",
       "      <td>0.751545</td>\n",
       "      <td>2551</td>\n",
       "      <td>DRUG GM</td>\n",
       "      <td>National</td>\n",
       "      <td>CHRISTMAS  SEASONAL</td>\n",
       "      <td>CHRISTMAS LIGHTS</td>\n",
       "      <td>NaN</td>\n",
       "    </tr>\n",
       "    <tr>\n",
       "      <th>7</th>\n",
       "      <td>5568419.0</td>\n",
       "      <td>0.751545</td>\n",
       "      <td>1208</td>\n",
       "      <td>GROCERY</td>\n",
       "      <td>National</td>\n",
       "      <td>SOFT DRINKS</td>\n",
       "      <td>SOFT DRINKS 12/18&amp;15PK CAN CAR</td>\n",
       "      <td>12 OZ</td>\n",
       "    </tr>\n",
       "    <tr>\n",
       "      <th>8</th>\n",
       "      <td>8090513.0</td>\n",
       "      <td>0.664317</td>\n",
       "      <td>2224</td>\n",
       "      <td>GROCERY</td>\n",
       "      <td>National</td>\n",
       "      <td>SOFT DRINKS</td>\n",
       "      <td>SOFT DRINKS 12/18&amp;15PK CAN CAR</td>\n",
       "      <td>12 OZ</td>\n",
       "    </tr>\n",
       "    <tr>\n",
       "      <th>9</th>\n",
       "      <td>8090536.0</td>\n",
       "      <td>0.654973</td>\n",
       "      <td>103</td>\n",
       "      <td>GROCERY</td>\n",
       "      <td>National</td>\n",
       "      <td>SOFT DRINKS</td>\n",
       "      <td>SOFT DRINKS 12/18&amp;15PK CAN CAR</td>\n",
       "      <td>12 OZ</td>\n",
       "    </tr>\n",
       "  </tbody>\n",
       "</table>\n",
       "</div>"
      ],
      "text/plain": [
       "   product_id  similarity_score  manufacturer_id department     brand  \\\n",
       "0   8090532.0          1.000000              103    GROCERY  National   \n",
       "1  12605292.0          0.751545             2551    DRUG GM  National   \n",
       "2   5589752.0          0.751545               69    GROCERY   Private   \n",
       "3  12606012.0          0.751545             2551    DRUG GM  National   \n",
       "4  12604493.0          0.751545              484    DRUG GM  National   \n",
       "5   9190629.0          0.751545             2551    DRUG GM  National   \n",
       "6  12605734.0          0.751545             2551    DRUG GM  National   \n",
       "7   5568419.0          0.751545             1208    GROCERY  National   \n",
       "8   8090513.0          0.664317             2224    GROCERY  National   \n",
       "9   8090536.0          0.654973              103    GROCERY  National   \n",
       "\n",
       "                 product_category                    product_type package_size  \n",
       "0                     SOFT DRINKS  SOFT DRINKS 12/18&15PK CAN CAR        12 OZ  \n",
       "1             CHRISTMAS  SEASONAL                CHRISTMAS LIGHTS        20 CT  \n",
       "2  WATER - CARBONATED/FLVRD DRINK                 DISTILLED WATER          GAL  \n",
       "3             CHRISTMAS  SEASONAL                CHRISTMAS LIGHTS          NaN  \n",
       "4             CHRISTMAS  SEASONAL                           DECOR          NaN  \n",
       "5            ELECTRICAL SUPPPLIES                 EXTENSION CORDS          NaN  \n",
       "6             CHRISTMAS  SEASONAL                CHRISTMAS LIGHTS          NaN  \n",
       "7                     SOFT DRINKS  SOFT DRINKS 12/18&15PK CAN CAR        12 OZ  \n",
       "8                     SOFT DRINKS  SOFT DRINKS 12/18&15PK CAN CAR        12 OZ  \n",
       "9                     SOFT DRINKS  SOFT DRINKS 12/18&15PK CAN CAR        12 OZ  "
      ]
     },
     "execution_count": 48,
     "metadata": {},
     "output_type": "execute_result"
    }
   ],
   "source": [
    "#Find 10 similar products for softdrink with id:8090532.0\n",
    "similar_products = getSimilarProducts(result,8090532.0,10)\n",
    "similar_products"
   ]
  },
  {
   "cell_type": "code",
   "execution_count": null,
   "id": "94791253",
   "metadata": {},
   "outputs": [],
   "source": []
  }
 ],
 "metadata": {
  "kernelspec": {
   "display_name": "Python 3",
   "language": "python",
   "name": "python3"
  },
  "language_info": {
   "codemirror_mode": {
    "name": "ipython",
    "version": 3
   },
   "file_extension": ".py",
   "mimetype": "text/x-python",
   "name": "python",
   "nbconvert_exporter": "python",
   "pygments_lexer": "ipython3",
   "version": "3.8.8"
  }
 },
 "nbformat": 4,
 "nbformat_minor": 5
}
